{
 "cells": [
  {
   "cell_type": "code",
   "execution_count": 113,
   "id": "b022b1af",
   "metadata": {},
   "outputs": [
    {
     "data": {
      "text/plain": [
       "'\\n1338 rows\\nLarge diff in max/min charge\\nmax/min age 64/18\\nmax children 5\\n4 regions\\n\\n-avg cost of smokers vs non-smokers DONE\\n-geographic distribution: avg bmi in each region DONE\\n-avg cost in age groups: 18-24, 25-34, 35-44, 45, 54, 55-64 DONE\\n-is sex a factor? normalize other factors and compare DONE\\n'"
      ]
     },
     "execution_count": 113,
     "metadata": {},
     "output_type": "execute_result"
    }
   ],
   "source": [
    "\"\"\"\n",
    "Initial observations:\n",
    "-1338 rows\n",
    "-Large diff in max/min charge\n",
    "-max/min age 64/18\n",
    "-max children 5\n",
    "-4 regions\n",
    "\n",
    "OBJECTIVES:\n",
    "1) Find average charge of smokers vs non-smokers\n",
    "2) Geographic distribution: Find average charge in each region\n",
    "3) Find average charge in age groups: 18-24, 25-34, 35-44, 45, 54, 55-64\n",
    "4) Analyze if sex a factor in terms of charges\n",
    "\"\"\""
   ]
  },
  {
   "cell_type": "code",
   "execution_count": 115,
   "id": "1b6bba49",
   "metadata": {},
   "outputs": [],
   "source": [
    "#import csv and convert to list\n",
    "\n",
    "import csv\n",
    "\n",
    "with open('C:/Users/jonat/OneDrive/Skrivebord/Codecademy/insurance csv.csv', 'r') as csvfile:\n",
    "    reader_variable = csv.reader(csvfile, delimiter = \",\")\n",
    "    data = list(reader_variable)\n",
    "    #print(data)\n",
    "    #['age', 'sex', 'bmi', 'children', 'smoker', 'region', 'charges']\n"
   ]
  },
  {
   "cell_type": "code",
   "execution_count": 116,
   "id": "efe125d7",
   "metadata": {},
   "outputs": [],
   "source": [
    "# 1) Find average charge of smokers vs non-smokers and 2) Geographic distribution: Find average charge in each region\n",
    "\n",
    "#create lists and remove titles \n",
    "\n",
    "def create_list(index, title, new_lst):\n",
    "    new_lst = []\n",
    "    for lst in data:\n",
    "        new_lst.append(lst[index])\n",
    "    new_lst.remove(title)\n",
    "    \n",
    "#ensure appropiate type\n",
    "    \n",
    "    for i in new_lst:\n",
    "        try:\n",
    "            new_lst = list(map(float, new_lst))\n",
    "        except:\n",
    "            new_lst = list(map(str, new_lst))\n",
    "    return new_lst\n",
    "\n",
    "#create individual lists\n",
    "\n",
    "age = create_list(0,\"age\", \"age\")\n",
    "sex = create_list(1,\"sex\", \"sex\")\n",
    "bmi = create_list(2,\"bmi\", \"bmi\")\n",
    "children = create_list(3,\"children\", \"children\")\n",
    "smoker =  create_list(4,\"smoker\", \"smoker\")\n",
    "region = create_list(5,\"region\", \"region\")\n",
    "charges = create_list(6,\"charges\", \"charges\")\n"
   ]
  },
  {
   "cell_type": "code",
   "execution_count": 117,
   "id": "b8a8fd52",
   "metadata": {},
   "outputs": [
    {
     "name": "stdout",
     "output_type": "stream",
     "text": [
      "8434.268297856199\n",
      "32050.23183153285\n",
      "12346.93737729231\n",
      "12417.575373969228\n",
      "14735.411437609895\n",
      "13406.3845163858\n"
     ]
    }
   ],
   "source": [
    "#calculate average charges based on other parameter/condition\n",
    "\n",
    "def avg_of_x_conditioned_by_y(x, y, z):\n",
    "    a = []\n",
    "    for i,j in zip(x, y):\n",
    "        if j == z:\n",
    "            a.append(i)\n",
    "    avg = sum(a) / len(a)\n",
    "    return avg\n",
    "\n",
    "#average charges for smokers vs non/smokers\n",
    "avg_charge_for_non_smokers = print(avg_of_x_conditioned_by_y(charges,smoker,\"no\"))\n",
    "avg_charge_for_non_smokers = print(avg_of_x_conditioned_by_y(charges,smoker,\"yes\"))\n",
    "\n",
    "#average charge in each region\n",
    "avg_charge_southwest = print(avg_of_x_conditioned_by_y(charges,region,\"southwest\"))\n",
    "avg_charge_southwest = print(avg_of_x_conditioned_by_y(charges,region,\"northwest\"))\n",
    "avg_charge_southwest = print(avg_of_x_conditioned_by_y(charges,region,\"southeast\"))\n",
    "avg_charge_southwest = print(avg_of_x_conditioned_by_y(charges,region,\"northeast\"))\n"
   ]
  },
  {
   "cell_type": "code",
   "execution_count": 118,
   "id": "abcfd70d",
   "metadata": {},
   "outputs": [
    {
     "name": "stdout",
     "output_type": "stream",
     "text": [
      "9011.340317334529\n",
      "10352.392525793359\n",
      "13134.168692692307\n",
      "15853.927878188151\n",
      "18513.276226900805\n"
     ]
    }
   ],
   "source": [
    "# 3) Find average charge for age groups: 18-24, 25-34, 35-44, 45, 54, 55-64\n",
    "\n",
    "age_groups = [[18,24], [25,34], [35,44], [45,54], [55,64]]\n",
    "\n",
    "def avg_of_x_conditioned_by_y(x, y, index):\n",
    "    a = []\n",
    "    min_age = age_groups[index][0]\n",
    "    max_age = age_groups[index][1]\n",
    "    for i,j in zip(x, y):\n",
    "        if min_age <= j <= max_age:\n",
    "            a.append(i)\n",
    "    avg = sum(a) / len(a)\n",
    "    return avg\n",
    "\n",
    "avg_charge_18_24 = print(avg_of_x_conditioned_by_y(charges, age, 0))\n",
    "avg_charge_25_34 = print(avg_of_x_conditioned_by_y(charges, age, 1))\n",
    "avg_charge_35_44 = print(avg_of_x_conditioned_by_y(charges, age, 2))\n",
    "avg_charge_45_54 = print(avg_of_x_conditioned_by_y(charges, age, 3))\n",
    "avg_charge_55_64 = print(avg_of_x_conditioned_by_y(charges, age, 4))\n"
   ]
  },
  {
   "cell_type": "code",
   "execution_count": 119,
   "id": "41f984a8",
   "metadata": {},
   "outputs": [],
   "source": [
    "# 4) Analyze if sex a factor in terms of charges\n",
    "\n",
    "#Analyse if sex is a factor for charges by normalizing other factors\n",
    "#Method: Find cases where all other factors are identical and save them in new lists of male and female respectively, then compare charges\n",
    "#Note: Due to the low probability that any two customers, male and female respectively, have exactly the same BMI, I decided to categorize BMI numbers.\n"
   ]
  },
  {
   "cell_type": "code",
   "execution_count": 120,
   "id": "53f391a9",
   "metadata": {},
   "outputs": [],
   "source": [
    "#delete title row\n",
    "del data[0]\n",
    "\n",
    "#categorize bmi\n",
    "for i in data:\n",
    "    if float(i[2]) < 18.5:\n",
    "        i[2] = \"a\"\n",
    "    elif 18.5 <= float(i[2]) <= 24.9:\n",
    "        i[2] = \"b\"\n",
    "    elif 25 <= float(i[2]) <= 29.9:\n",
    "        i[2] = \"c\"\n",
    "    elif 30 <= float(i[2]) <= 34.9:\n",
    "        i[2] = \"d\"\n",
    "    elif 35 <= float(i[2]) <= 39.9:\n",
    "        i[2] = \"e\"\n",
    "    elif float(i[2]) > 40:\n",
    "        i[2] = \"f\"\n"
   ]
  },
  {
   "cell_type": "code",
   "execution_count": 121,
   "id": "bfaaa4ec",
   "metadata": {},
   "outputs": [
    {
     "name": "stdout",
     "output_type": "stream",
     "text": [
      "676\n",
      "662\n"
     ]
    }
   ],
   "source": [
    "#create 2 lists for male and female respectively\n",
    "\n",
    "male = []\n",
    "female = []\n",
    "for lst in data:\n",
    "    if lst[1] == \"male\":\n",
    "        male.append(lst)\n",
    "    elif lst[1] == \"female\":\n",
    "        female.append(lst)\n",
    "\n",
    "#find which list is the longest to ensure all possible matches are found \n",
    "print(len(male))\n",
    "print(len(female))\n"
   ]
  },
  {
   "cell_type": "code",
   "execution_count": 122,
   "id": "c85de33a",
   "metadata": {},
   "outputs": [],
   "source": [
    "#create keys\n",
    "\n",
    "keys_male = []\n",
    "for sub_lst in male:\n",
    "    keys_male.append(str(sub_lst[0]) + str(sub_lst[2]) + str(sub_lst[3]) + str(sub_lst[4]))\n",
    "\n",
    "keys_female = []\n",
    "for sub_lst in female:\n",
    "    keys_female.append(str(sub_lst[0]) + str(sub_lst[2]) + str(sub_lst[3]) + str(sub_lst[4]))\n"
   ]
  },
  {
   "cell_type": "code",
   "execution_count": 123,
   "id": "72c2189a",
   "metadata": {},
   "outputs": [],
   "source": [
    "#insert keys in data\n",
    "\n",
    "for i,j in zip(male, keys_male):\n",
    "    i.append(j)\n",
    "    \n",
    "for i,j in zip(female, keys_female):\n",
    "    i.append(j)\n",
    "\n",
    "#print(male)\n",
    "#print(female)"
   ]
  },
  {
   "cell_type": "code",
   "execution_count": 124,
   "id": "139d9edb",
   "metadata": {},
   "outputs": [],
   "source": [
    "#get indices of matching keys - female\n",
    "\n",
    "indices_female = []\n",
    "for key_male in keys_male:\n",
    "    for index_female,key_female in zip( range(len(keys_female)), keys_female ):\n",
    "        if key_female in key_male:\n",
    "            indices_female.append(index_female) \n",
    "\n",
    "#remove duplicates - male\n",
    "indices_female_final = list()            \n",
    "for item in indices_female:\n",
    "    if item not in indices_female_final:\n",
    "        indices_female_final.append(item)            \n"
   ]
  },
  {
   "cell_type": "code",
   "execution_count": 125,
   "id": "e9e91e04",
   "metadata": {},
   "outputs": [],
   "source": [
    "#get indices of matching keys - male\n",
    "\n",
    "indices_male = []\n",
    "for key_female in keys_female:\n",
    "    for index_male,key_male in zip( range(len(keys_male)), keys_male ):\n",
    "        if key_male in key_female:\n",
    "            indices_male.append(index_male) \n",
    "            \n",
    "#remove duplicates - male\n",
    "indices_male_final = list()            \n",
    "for item in indices_male:\n",
    "    if item not in indices_male_final:\n",
    "        indices_male_final.append(item)            \n"
   ]
  },
  {
   "cell_type": "code",
   "execution_count": 126,
   "id": "8c914a46",
   "metadata": {},
   "outputs": [
    {
     "name": "stdout",
     "output_type": "stream",
     "text": [
      "13943.070330666656\n",
      "12888.00488737805\n"
     ]
    }
   ],
   "source": [
    "#calculate average charges and compare\n",
    "\n",
    "charges_male = [float(data[i][6]) for i in indices_male_final]\n",
    "charges_female = [float(data[i][6]) for i in indices_female_final]\n",
    "\n",
    "avg_male = 0\n",
    "for charge in charges_male:\n",
    "    avg_male += charge\n",
    "print(avg_male / len(charges_male))\n",
    "\n",
    "avg_female = 0\n",
    "for charge in charges_female:\n",
    "    avg_female += charge\n",
    "print(avg_female / len(charges_female))\n"
   ]
  }
 ],
 "metadata": {
  "kernelspec": {
   "display_name": "Python 3 (ipykernel)",
   "language": "python",
   "name": "python3"
  },
  "language_info": {
   "codemirror_mode": {
    "name": "ipython",
    "version": 3
   },
   "file_extension": ".py",
   "mimetype": "text/x-python",
   "name": "python",
   "nbconvert_exporter": "python",
   "pygments_lexer": "ipython3",
   "version": "3.9.13"
  }
 },
 "nbformat": 4,
 "nbformat_minor": 5
}
